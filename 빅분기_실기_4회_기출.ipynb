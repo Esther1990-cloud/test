{
  "nbformat": 4,
  "nbformat_minor": 0,
  "metadata": {
    "colab": {
      "provenance": [],
      "authorship_tag": "ABX9TyOTy4ZvXg7QYPESRp9QuBxn",
      "include_colab_link": true
    },
    "kernelspec": {
      "name": "python3",
      "display_name": "Python 3"
    },
    "language_info": {
      "name": "python"
    }
  },
  "cells": [
    {
      "cell_type": "markdown",
      "metadata": {
        "id": "view-in-github",
        "colab_type": "text"
      },
      "source": [
        "<a href=\"https://colab.research.google.com/github/Esther1990-cloud/test/blob/main/%EB%B9%85%EB%B6%84%EA%B8%B0_%EC%8B%A4%EA%B8%B0_4%ED%9A%8C_%EA%B8%B0%EC%B6%9C.ipynb\" target=\"_parent\"><img src=\"https://colab.research.google.com/assets/colab-badge.svg\" alt=\"Open In Colab\"/></a>"
      ]
    },
    {
      "cell_type": "code",
      "execution_count": null,
      "metadata": {
        "colab": {
          "base_uri": "https://localhost:8080/"
        },
        "id": "5EVgU3ESTHyG",
        "outputId": "a253d710-5a6b-481b-abef-13661dc86c4c"
      },
      "outputs": [
        {
          "output_type": "stream",
          "name": "stdout",
          "text": [
            "12.55\n",
            "31.5\n"
          ]
        }
      ],
      "source": [
        "# 제 1유형\n",
        "import numpy as np\n",
        "lst = [10, 11, 11.2, 13, 15.5, 18, 19.8, 20, 31, 33, 39.5, 42]\n",
        "\n",
        "q1 = np.percentile(lst, 25)\n",
        "q3 = np.percentile(lst, 75)\n",
        "\n",
        "print(q1)\n",
        "print(q3)"
      ]
    },
    {
      "cell_type": "code",
      "source": [
        "diff = abs(q1 - q3)\n",
        "print(diff)"
      ],
      "metadata": {
        "colab": {
          "base_uri": "https://localhost:8080/"
        },
        "id": "_iW4OoCIVJ0w",
        "outputId": "2d6905f1-3b18-40f4-a0e4-95eeb4bfe8f6"
      },
      "execution_count": null,
      "outputs": [
        {
          "output_type": "stream",
          "name": "stdout",
          "text": [
            "18.95\n"
          ]
        }
      ]
    },
    {
      "cell_type": "code",
      "source": [
        "result = int(diff)\n",
        "print(result)"
      ],
      "metadata": {
        "colab": {
          "base_uri": "https://localhost:8080/"
        },
        "id": "JNYN4V6tVPza",
        "outputId": "203520fa-6764-40c5-c82b-28cfc2861ae5"
      },
      "execution_count": null,
      "outputs": [
        {
          "output_type": "stream",
          "name": "stdout",
          "text": [
            "18\n"
          ]
        }
      ]
    },
    {
      "cell_type": "code",
      "source": [
        "import pandas as pd\n",
        "\n",
        "df = pd.read_csv('/content/facebook.csv')\n",
        "print(df.head())"
      ],
      "metadata": {
        "colab": {
          "base_uri": "https://localhost:8080/"
        },
        "id": "MZ7yJEYJVlhH",
        "outputId": "16a110bc-21c6-44ec-c5d1-7b9ea08a4066"
      },
      "execution_count": null,
      "outputs": [
        {
          "output_type": "stream",
          "name": "stdout",
          "text": [
            "                          status_id status_type  num_reactions  num_comments  \\\n",
            "0  246675545449582_1649696485147474       video            529           512   \n",
            "1  246675545449582_1649426988507757       photo            150             0   \n",
            "2  246675545449582_1648730588577397       video            227           236   \n",
            "3  246675545449582_1648576705259452       photo            111             0   \n",
            "4  246675545449582_1645700502213739       photo            213             0   \n",
            "\n",
            "   num_shares  num_likes  num_loves  num_wows  num_hahas  num_sads  num_angrys  \n",
            "0         262        432         92         3          1         1           0  \n",
            "1           0        150          0         0          0         0           0  \n",
            "2          57        204         21         1          1         0           0  \n",
            "3           0        111          0         0          0         0           0  \n",
            "4           0        204          9         0          0         0           0  \n"
          ]
        }
      ]
    },
    {
      "cell_type": "code",
      "source": [
        "df['positive'] =(df['num_loves']+df['num_wows'])/df['num_reactions']\n",
        "df['positive'].describe()"
      ],
      "metadata": {
        "colab": {
          "base_uri": "https://localhost:8080/"
        },
        "id": "BHYbvxh0WPbd",
        "outputId": "c6bd9912-7036-448e-8c05-c92f8b0d1ae1"
      },
      "execution_count": null,
      "outputs": [
        {
          "output_type": "execute_result",
          "data": {
            "text/plain": [
              "count    6929.000000\n",
              "mean        0.049604\n",
              "std         0.101727\n",
              "min         0.000000\n",
              "25%         0.000000\n",
              "50%         0.000000\n",
              "75%         0.040000\n",
              "max         1.000000\n",
              "Name: positive, dtype: float64"
            ]
          },
          "metadata": {},
          "execution_count": 9
        }
      ]
    },
    {
      "cell_type": "code",
      "source": [
        "result_df = df[(df['positive']>0.4) & (df['positive']<0.5) & (df['status_type']=='video')]\n",
        "\n",
        "result = len(result_df)\n",
        "print(result)"
      ],
      "metadata": {
        "colab": {
          "base_uri": "https://localhost:8080/"
        },
        "id": "rYtcsFNtWhKC",
        "outputId": "1496d181-a5c3-45b6-d714-55b6d266547a"
      },
      "execution_count": null,
      "outputs": [
        {
          "output_type": "stream",
          "name": "stdout",
          "text": [
            "90\n"
          ]
        }
      ]
    },
    {
      "cell_type": "code",
      "source": [
        "import pandas as pd\n",
        "\n",
        "df = pd.read_csv('/content/netflix.csv')\n",
        "print(df.head())"
      ],
      "metadata": {
        "colab": {
          "base_uri": "https://localhost:8080/"
        },
        "id": "sb5UoV7xXQ0r",
        "outputId": "a6c68fef-8ca1-448a-8ea5-a550dec9d57e"
      },
      "execution_count": null,
      "outputs": [
        {
          "output_type": "stream",
          "name": "stdout",
          "text": [
            "  show_id     type                  title         director  \\\n",
            "0      s1    Movie   Dick Johnson Is Dead  Kirsten Johnson   \n",
            "1      s2  TV Show          Blood & Water              NaN   \n",
            "2      s3  TV Show              Ganglands  Julien Leclercq   \n",
            "3      s4  TV Show  Jailbirds New Orleans              NaN   \n",
            "4      s5  TV Show           Kota Factory              NaN   \n",
            "\n",
            "                                                cast        country  \\\n",
            "0                                                NaN  United States   \n",
            "1  Ama Qamata, Khosi Ngema, Gail Mabalane, Thaban...   South Africa   \n",
            "2  Sami Bouajila, Tracy Gotoas, Samuel Jouy, Nabi...            NaN   \n",
            "3                                                NaN            NaN   \n",
            "4  Mayur More, Jitendra Kumar, Ranjan Raj, Alam K...          India   \n",
            "\n",
            "           date_added  release_year rating   duration  \\\n",
            "0  September 25, 2021          2020  PG-13     90 min   \n",
            "1  September 24, 2021          2021  TV-MA  2 Seasons   \n",
            "2  September 24, 2021          2021  TV-MA   1 Season   \n",
            "3  September 24, 2021          2021  TV-MA   1 Season   \n",
            "4  September 24, 2021          2021  TV-MA  2 Seasons   \n",
            "\n",
            "                                           listed_in  \\\n",
            "0                                      Documentaries   \n",
            "1    International TV Shows, TV Dramas, TV Mysteries   \n",
            "2  Crime TV Shows, International TV Shows, TV Act...   \n",
            "3                             Docuseries, Reality TV   \n",
            "4  International TV Shows, Romantic TV Shows, TV ...   \n",
            "\n",
            "                                         description  \n",
            "0  As her father nears the end of his life, filmm...  \n",
            "1  After crossing paths at a party, a Cape Town t...  \n",
            "2  To protect his family from a powerful drug lor...  \n",
            "3  Feuds, flirtations and toilet talk go down amo...  \n",
            "4  In a city of coaching centers known to train I...  \n"
          ]
        }
      ]
    },
    {
      "cell_type": "code",
      "source": [
        "print(df['date_added'])"
      ],
      "metadata": {
        "colab": {
          "base_uri": "https://localhost:8080/"
        },
        "id": "9hO_lj0QXiej",
        "outputId": "4451ae27-b442-473a-b264-60b24ffbbb8d"
      },
      "execution_count": null,
      "outputs": [
        {
          "output_type": "stream",
          "name": "stdout",
          "text": [
            "0       September 25, 2021\n",
            "1       September 24, 2021\n",
            "2       September 24, 2021\n",
            "3       September 24, 2021\n",
            "4       September 24, 2021\n",
            "               ...        \n",
            "8802     November 20, 2019\n",
            "8803          July 1, 2019\n",
            "8804      November 1, 2019\n",
            "8805      January 11, 2020\n",
            "8806         March 2, 2019\n",
            "Name: date_added, Length: 8807, dtype: object\n"
          ]
        }
      ]
    },
    {
      "cell_type": "code",
      "source": [
        "result_df = df[df['date_added'].str.contains('January')&df['date_added'].str.contains('2018')]\n",
        "print(result_df.head())"
      ],
      "metadata": {
        "colab": {
          "base_uri": "https://localhost:8080/"
        },
        "id": "kvY8rNMJXmaX",
        "outputId": "cf35e688-9cb4-4a58-bb20-d0a4acd34c73"
      },
      "execution_count": null,
      "outputs": [
        {
          "output_type": "stream",
          "name": "stdout",
          "text": [
            "     show_id     type                                              title  \\\n",
            "5055   s5056    Movie                               Expedition Happiness   \n",
            "5056   s5057    Movie  Jerry Seinfeld: I'm Telling You for the Last Time   \n",
            "5057   s5058  TV Show                                        Retribution   \n",
            "5058   s5059    Movie                                         Holy Camp!   \n",
            "5059   s5060    Movie                        A Futile and Stupid Gesture   \n",
            "\n",
            "                           director  \\\n",
            "5055                   Selima Taibi   \n",
            "5056                  Marty Callner   \n",
            "5057                            NaN   \n",
            "5058  Javier Ambrossi, Javier Calvo   \n",
            "5059                     David Wain   \n",
            "\n",
            "                                                   cast         country  \\\n",
            "5055                         Selima Taibi, Felix Starck         Germany   \n",
            "5056                                     Jerry Seinfeld   United States   \n",
            "5057  Georgina Campbell, Joe Dempsie, Adrian Edmonds...  United Kingdom   \n",
            "5058  Macarena García, Anna Castillo, Belén Cuesta, ...           Spain   \n",
            "5059  Will Forte, Domhnall Gleeson, Martin Mull, Joe...   United States   \n",
            "\n",
            "            date_added  release_year rating  duration  \\\n",
            "5055  January 31, 2018          2017  TV-PG    96 min   \n",
            "5056  January 30, 2018          1998  TV-14    69 min   \n",
            "5057  January 30, 2018          2016  TV-MA  1 Season   \n",
            "5058  January 29, 2018          2017  TV-MA   108 min   \n",
            "5059  January 26, 2018          2018  TV-MA   102 min   \n",
            "\n",
            "                                              listed_in  \\\n",
            "5055                Documentaries, International Movies   \n",
            "5056                                    Stand-Up Comedy   \n",
            "5057  British TV Shows, Crime TV Shows, Internationa...   \n",
            "5058             Comedies, Dramas, Faith & Spirituality   \n",
            "5059                                           Comedies   \n",
            "\n",
            "                                            description  \n",
            "5055  A filmmaker and his musician girlfriend attemp...  \n",
            "5056  Months after his classic TV sitcom ends, the l...  \n",
            "5057  A dark web of secrets and lies emerges when a ...  \n",
            "5058  In this musical comedy, two rebellious teen gi...  \n",
            "5059  In a brief life full of triumph and failure, \"...  \n"
          ]
        }
      ]
    },
    {
      "cell_type": "code",
      "source": [
        "result_df_UK = result_df[result_df['country']=='United Kingdom']\n",
        "result = len(result_df_UK)\n",
        "print(result)"
      ],
      "metadata": {
        "colab": {
          "base_uri": "https://localhost:8080/"
        },
        "id": "Cn1S24Q9YZtD",
        "outputId": "49e40be6-23a1-45ea-f218-ba88c344fec3"
      },
      "execution_count": null,
      "outputs": [
        {
          "output_type": "stream",
          "name": "stdout",
          "text": [
            "6\n"
          ]
        }
      ]
    },
    {
      "cell_type": "code",
      "source": [
        "import pandas as pd\n",
        "\n",
        "x_test = pd.read_csv('/content/CS_Seg_x_test.csv')\n",
        "x_train = pd.read_csv('/content/CS_Seg_x_train.csv')\n",
        "y_train = pd.read_csv('/content/CS_Seg_y_train.csv')\n",
        "\n",
        "print(x_train.head())"
      ],
      "metadata": {
        "colab": {
          "base_uri": "https://localhost:8080/"
        },
        "id": "S7l1_iZsZ6e9",
        "outputId": "bbe048f8-03ef-4707-c12b-a88ca69fd4ad"
      },
      "execution_count": null,
      "outputs": [
        {
          "output_type": "stream",
          "name": "stdout",
          "text": [
            "       ID  Gender Ever_Married  Age Graduated  Profession  Work_Experience  \\\n",
            "0  462809    Male           No   22        No  Healthcare              1.0   \n",
            "1  466315  Female          Yes   67       Yes    Engineer              1.0   \n",
            "2  461735    Male          Yes   67       Yes      Lawyer              0.0   \n",
            "3  461319    Male          Yes   56        No      Artist              0.0   \n",
            "4  460156    Male           No   32       Yes  Healthcare              1.0   \n",
            "\n",
            "  Spending_Score  Family_Size  \n",
            "0            Low          4.0  \n",
            "1            Low          1.0  \n",
            "2           High          2.0  \n",
            "3        Average          2.0  \n",
            "4            Low          3.0  \n"
          ]
        }
      ]
    },
    {
      "cell_type": "code",
      "source": [
        "print(f' x_train : {x_train.isnull().sum().sum()}')\n",
        "print(f' y_train : {y_train.isnull().sum().sum()}')\n",
        "print(f' x_test : {x_test.isnull().sum().sum()}')"
      ],
      "metadata": {
        "colab": {
          "base_uri": "https://localhost:8080/"
        },
        "id": "i_MA1VLOavLa",
        "outputId": "681e78b3-9bbe-4ddd-8f4a-4d0175459df7"
      },
      "execution_count": null,
      "outputs": [
        {
          "output_type": "stream",
          "name": "stdout",
          "text": [
            " x_train : 0\n",
            " y_train : 0\n",
            " x_test : 0\n"
          ]
        }
      ]
    },
    {
      "cell_type": "code",
      "source": [
        "# 범주형 데이터\n",
        "x_train_word = x_train[['Gender','Ever_Married','Graduated','Profession','Spending_Score']]\n",
        "x_test_word = x_test[['Gender','Ever_Married','Ever_Married','Graduated','Profession','Spending_Score']]\n",
        "print(x_train_word)"
      ],
      "metadata": {
        "colab": {
          "base_uri": "https://localhost:8080/"
        },
        "id": "Xv8M0l_nbQBn",
        "outputId": "2a4fd0ec-91dc-4aa7-cd15-3618caf090f4"
      },
      "execution_count": null,
      "outputs": [
        {
          "output_type": "stream",
          "name": "stdout",
          "text": [
            "      Gender Ever_Married Graduated  Profession Spending_Score\n",
            "0       Male           No        No  Healthcare            Low\n",
            "1     Female          Yes       Yes    Engineer            Low\n",
            "2       Male          Yes       Yes      Lawyer           High\n",
            "3       Male          Yes        No      Artist        Average\n",
            "4       Male           No       Yes  Healthcare            Low\n",
            "...      ...          ...       ...         ...            ...\n",
            "6713    Male          Yes       Yes      Artist           High\n",
            "6714    Male           No        No   Executive            Low\n",
            "6715  Female           No       Yes  Healthcare            Low\n",
            "6716  Female           No       Yes  Healthcare            Low\n",
            "6717    Male          Yes       Yes   Executive        Average\n",
            "\n",
            "[6718 rows x 5 columns]\n"
          ]
        }
      ]
    },
    {
      "cell_type": "code",
      "source": [
        "# 수치형 데이터\n",
        "x_train_num = x_train.drop(columns=['ID','Gender','Ever_Married','Graduated','Profession','Spending_Score'])\n",
        "x_test_num = x_test.drop(columns=['ID','Gender','Ever_Married','Graduated','Profession','Spending_Score'])\n",
        "print(x_train_num)"
      ],
      "metadata": {
        "colab": {
          "base_uri": "https://localhost:8080/"
        },
        "id": "s6KNDqekfhv8",
        "outputId": "d2a67cd8-55b8-429f-9fe7-8c617b959e12"
      },
      "execution_count": null,
      "outputs": [
        {
          "output_type": "stream",
          "name": "stdout",
          "text": [
            "      Age  Work_Experience  Family_Size\n",
            "0      22              1.0          4.0\n",
            "1      67              1.0          1.0\n",
            "2      67              0.0          2.0\n",
            "3      56              0.0          2.0\n",
            "4      32              1.0          3.0\n",
            "...   ...              ...          ...\n",
            "6713   41              0.0          5.0\n",
            "6714   35              3.0          4.0\n",
            "6715   33              1.0          1.0\n",
            "6716   27              1.0          4.0\n",
            "6717   37              0.0          3.0\n",
            "\n",
            "[6718 rows x 3 columns]\n"
          ]
        }
      ]
    },
    {
      "cell_type": "code",
      "source": [
        "from sklearn.preprocessing import MinMaxScaler\n",
        "\n",
        "scaler = MinMaxScaler()\n",
        "\n",
        "x_train_num_scale = scaler.fit_transform(x_train_num)\n",
        "x_test_num_scale = scaler.transform(x_test_num)\n",
        "\n",
        "# 데이터 프레임 설정\n",
        "df_train_num = pd.DataFrame(x_train_num_scale, columns = x_train_num.columns)\n",
        "df_test_num = pd.DataFrame(x_test_num_scale, columns = x_test_num.columns)\n",
        "\n",
        "# 원핫 인코딩\n",
        "df_train_word = pd.get_dummies(x_train_word)\n",
        "df_test_word = pd.get_dummies(x_test_word)\n",
        "\n",
        "# 데이터 결합\n",
        "df_train = pd.concat([df_train_num, df_train_word], axis = 1)\n",
        "df_test = pd.concat([df_test_num, df_train_word], axis = 1)\n",
        "print(df_train)"
      ],
      "metadata": {
        "colab": {
          "base_uri": "https://localhost:8080/"
        },
        "id": "aX4h7sGLfz3M",
        "outputId": "ab3dc8f1-0869-411b-db53-24469aa05ed4"
      },
      "execution_count": null,
      "outputs": [
        {
          "output_type": "stream",
          "name": "stdout",
          "text": [
            "           Age  Work_Experience  Family_Size  Gender_Female  Gender_Male  \\\n",
            "0     0.056338         0.071429        0.375          False         True   \n",
            "1     0.690141         0.071429        0.000           True        False   \n",
            "2     0.690141         0.000000        0.125          False         True   \n",
            "3     0.535211         0.000000        0.125          False         True   \n",
            "4     0.197183         0.071429        0.250          False         True   \n",
            "...        ...              ...          ...            ...          ...   \n",
            "6713  0.323944         0.000000        0.500          False         True   \n",
            "6714  0.239437         0.214286        0.375          False         True   \n",
            "6715  0.211268         0.071429        0.000           True        False   \n",
            "6716  0.126761         0.071429        0.375           True        False   \n",
            "6717  0.267606         0.000000        0.250          False         True   \n",
            "\n",
            "      Ever_Married_No  Ever_Married_Yes  Graduated_No  Graduated_Yes  \\\n",
            "0                True             False          True          False   \n",
            "1               False              True         False           True   \n",
            "2               False              True         False           True   \n",
            "3               False              True          True          False   \n",
            "4                True             False         False           True   \n",
            "...               ...               ...           ...            ...   \n",
            "6713            False              True         False           True   \n",
            "6714             True             False          True          False   \n",
            "6715             True             False         False           True   \n",
            "6716             True             False         False           True   \n",
            "6717            False              True         False           True   \n",
            "\n",
            "      Profession_Artist  ...  Profession_Engineer  Profession_Entertainment  \\\n",
            "0                 False  ...                False                     False   \n",
            "1                 False  ...                 True                     False   \n",
            "2                 False  ...                False                     False   \n",
            "3                  True  ...                False                     False   \n",
            "4                 False  ...                False                     False   \n",
            "...                 ...  ...                  ...                       ...   \n",
            "6713               True  ...                False                     False   \n",
            "6714              False  ...                False                     False   \n",
            "6715              False  ...                False                     False   \n",
            "6716              False  ...                False                     False   \n",
            "6717              False  ...                False                     False   \n",
            "\n",
            "      Profession_Executive  Profession_Healthcare  Profession_Homemaker  \\\n",
            "0                    False                   True                 False   \n",
            "1                    False                  False                 False   \n",
            "2                    False                  False                 False   \n",
            "3                    False                  False                 False   \n",
            "4                    False                   True                 False   \n",
            "...                    ...                    ...                   ...   \n",
            "6713                 False                  False                 False   \n",
            "6714                  True                  False                 False   \n",
            "6715                 False                   True                 False   \n",
            "6716                 False                   True                 False   \n",
            "6717                  True                  False                 False   \n",
            "\n",
            "      Profession_Lawyer  Profession_Marketing  Spending_Score_Average  \\\n",
            "0                 False                 False                   False   \n",
            "1                 False                 False                   False   \n",
            "2                  True                 False                   False   \n",
            "3                 False                 False                    True   \n",
            "4                 False                 False                   False   \n",
            "...                 ...                   ...                     ...   \n",
            "6713              False                 False                   False   \n",
            "6714              False                 False                   False   \n",
            "6715              False                 False                   False   \n",
            "6716              False                 False                   False   \n",
            "6717              False                 False                    True   \n",
            "\n",
            "      Spending_Score_High  Spending_Score_Low  \n",
            "0                   False                True  \n",
            "1                   False                True  \n",
            "2                    True               False  \n",
            "3                   False               False  \n",
            "4                   False                True  \n",
            "...                   ...                 ...  \n",
            "6713                 True               False  \n",
            "6714                False                True  \n",
            "6715                False                True  \n",
            "6716                False                True  \n",
            "6717                False               False  \n",
            "\n",
            "[6718 rows x 21 columns]\n"
          ]
        }
      ]
    },
    {
      "cell_type": "code",
      "source": [
        "from pandas.core.common import random_state\n",
        "import xgboost as xgb\n",
        "from sklearn.model_selection import train_test_split\n",
        "from sklearn.metrics import classification_report"
      ],
      "metadata": {
        "id": "fD0jPbKhn4p_"
      },
      "execution_count": null,
      "outputs": []
    },
    {
      "cell_type": "code",
      "source": [
        "# target 값 변경\n",
        "y_train[y_train['Segmentation'] == 'A'] = 0\n",
        "y_train[y_train['Segmentation'] == 'B'] = 1\n",
        "y_train[y_train['Segmentation'] == 'C'] = 2\n",
        "y_train[y_train['Segmentation'] == 'D'] = 3"
      ],
      "metadata": {
        "id": "okTl4OCUoU9F"
      },
      "execution_count": null,
      "outputs": []
    },
    {
      "cell_type": "code",
      "source": [
        "# 모델 생성\n",
        "model = xgb.XGBClassifier(random_state=77)"
      ],
      "metadata": {
        "id": "OL--dOoaoz_D"
      },
      "execution_count": null,
      "outputs": []
    },
    {
      "cell_type": "code",
      "source": [
        "# train, validation 데이터 설정\n",
        "x_train, x_val, y_train_t, y_val = train_test_split(df_train.values, y_train['Segmentation'].values, test_size=0.3)\n",
        "\n",
        "# 모델 학습\n",
        "model.fit(x_train, y_train_t)\n",
        "\n",
        "# validation 데이터로 성능 평가\n",
        "y_pred = model.predict(x_val)\n",
        "print(classification_report(y_val.astype(int),y_pred))"
      ],
      "metadata": {
        "colab": {
          "base_uri": "https://localhost:8080/"
        },
        "id": "yFPeqUCKo-ou",
        "outputId": "de0e53be-9393-4e63-d2b0-86ea01003b5d"
      },
      "execution_count": null,
      "outputs": [
        {
          "output_type": "stream",
          "name": "stdout",
          "text": [
            "              precision    recall  f1-score   support\n",
            "\n",
            "           0       0.44      0.41      0.42       500\n",
            "           1       0.34      0.33      0.34       455\n",
            "           2       0.54      0.53      0.53       521\n",
            "           3       0.61      0.65      0.63       540\n",
            "\n",
            "    accuracy                           0.49      2016\n",
            "   macro avg       0.48      0.48      0.48      2016\n",
            "weighted avg       0.49      0.49      0.49      2016\n",
            "\n"
          ]
        }
      ]
    },
    {
      "cell_type": "code",
      "source": [
        "# 예측\n",
        "y_pred = model.predict(df_test)\n",
        "df = pd.DataFrame(y_train['ID'],columns=['ID'])\n",
        "df['Segmentation'] = y_pred\n",
        "\n",
        "# Segmentation 데이터를 숫자에서 문자로 수정\n",
        "df['Segmentation'][df['Segmentation']==0] = 'A'\n",
        "df['Segmentation'][df['Segmentation']==1] = 'B'\n",
        "df['Segmentation'][df['Segmentation']==2] = 'C'\n",
        "df['Segmentation'][df['Segmentation']==3] = 'D'\n",
        "print(df.head())\n",
        "\n",
        "# CSV 파일 저장\n",
        "df.to_csv('result.csv', index=False)"
      ],
      "metadata": {
        "colab": {
          "base_uri": "https://localhost:8080/"
        },
        "id": "owzCED2sqF4S",
        "outputId": "5a84f668-c861-4daa-ff1c-6e1dff04dd8b"
      },
      "execution_count": null,
      "outputs": [
        {
          "output_type": "stream",
          "name": "stdout",
          "text": [
            "   ID Segmentation\n",
            "0   3            D\n",
            "1   1            D\n",
            "2   1            C\n",
            "3   2            A\n",
            "4   2            C\n"
          ]
        }
      ]
    }
  ]
}